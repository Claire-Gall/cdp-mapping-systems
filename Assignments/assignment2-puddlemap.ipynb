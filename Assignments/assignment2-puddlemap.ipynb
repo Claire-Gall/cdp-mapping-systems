{
 "cells": [
  {
   "cell_type": "markdown",
   "id": "ea1f3095",
   "metadata": {},
   "source": [
    "External dataset source:\n",
    "https://www.sciencebase.gov/catalog/item/63badf22d34e92aad3cd279e\n",
    "Data File: HWM_Measurements.Info.csv\n",
    "\n",
    "After Hurricane Ida, dataset marks points around New York City that become inundated during heavy rainfaill, permanently submerged in water throughout a rainy period. This data maps water depth and the most significantly inundated areas which in relation to my proposed dataset, present the obstacles of puddles and poolings for residents to navigate as they maneuver around the city. \n",
    "\n",
    "I would combine these two datasets to analyze where streets become more frequently inundated during heavy rainfall creating puddles, pools and larger water obstructions for residents to maneuver throughout New York City. My personal dataset only covers a 1-2 block radius where I consistently walk no matter where I am traveling to in the city. I would be curious to see the varying degrees of inundation experienced by residents relative to major flood events relative to the city's infrastructure in certain areas. "
   ]
  },
  {
   "cell_type": "code",
   "execution_count": 1,
   "id": "e3b02e9c",
   "metadata": {},
   "outputs": [],
   "source": [
    "import pandas as pd\n",
    "import geopandas as gpd"
   ]
  },
  {
   "cell_type": "code",
   "execution_count": 2,
   "id": "802feaf9",
   "metadata": {},
   "outputs": [],
   "source": [
    "pluto = gpd.read_file('MappingSystemsAssignment2-DataSet -PuddleMap.csv', )"
   ]
  },
  {
   "cell_type": "code",
   "execution_count": 3,
   "id": "2006ebc1",
   "metadata": {},
   "outputs": [],
   "source": [
    "import pandas as pd\n",
    "import geojson"
   ]
  },
  {
   "cell_type": "code",
   "execution_count": 5,
   "id": "f2200b55",
   "metadata": {},
   "outputs": [],
   "source": [
    "# Load the CSV file\n",
    "df = pd.read_csv('MappingSystemsAssignment2-DataSet -PuddleMap.csv')"
   ]
  },
  {
   "cell_type": "code",
   "execution_count": 6,
   "id": "30d9fd95",
   "metadata": {},
   "outputs": [
    {
     "data": {
      "text/html": [
       "<div>\n",
       "<style scoped>\n",
       "    .dataframe tbody tr th:only-of-type {\n",
       "        vertical-align: middle;\n",
       "    }\n",
       "\n",
       "    .dataframe tbody tr th {\n",
       "        vertical-align: top;\n",
       "    }\n",
       "\n",
       "    .dataframe thead th {\n",
       "        text-align: right;\n",
       "    }\n",
       "</style>\n",
       "<table border=\"1\" class=\"dataframe\">\n",
       "  <thead>\n",
       "    <tr style=\"text-align: right;\">\n",
       "      <th></th>\n",
       "      <th>x</th>\n",
       "      <th>y</th>\n",
       "    </tr>\n",
       "  </thead>\n",
       "  <tbody>\n",
       "    <tr>\n",
       "      <th>0</th>\n",
       "      <td>Latitude</td>\n",
       "      <td>Longitude</td>\n",
       "    </tr>\n",
       "  </tbody>\n",
       "</table>\n",
       "</div>"
      ],
      "text/plain": [
       "          x          y\n",
       "0  Latitude  Longitude"
      ]
     },
     "execution_count": 6,
     "metadata": {},
     "output_type": "execute_result"
    }
   ],
   "source": [
    "import pandas as pd\n",
    "df = pd.DataFrame({'x': ['Latitude'], 'y': ['Longitude']})\n",
    "df"
   ]
  },
  {
   "cell_type": "code",
   "execution_count": 7,
   "id": "5f377ae8",
   "metadata": {},
   "outputs": [
    {
     "data": {
      "text/html": [
       "<div>\n",
       "<style scoped>\n",
       "    .dataframe tbody tr th:only-of-type {\n",
       "        vertical-align: middle;\n",
       "    }\n",
       "\n",
       "    .dataframe tbody tr th {\n",
       "        vertical-align: top;\n",
       "    }\n",
       "\n",
       "    .dataframe thead th {\n",
       "        text-align: right;\n",
       "    }\n",
       "</style>\n",
       "<table border=\"1\" class=\"dataframe\">\n",
       "  <thead>\n",
       "    <tr style=\"text-align: right;\">\n",
       "      <th></th>\n",
       "      <th>longitude</th>\n",
       "      <th>latitude</th>\n",
       "    </tr>\n",
       "  </thead>\n",
       "  <tbody>\n",
       "    <tr>\n",
       "      <th>0</th>\n",
       "      <td>-73.59188</td>\n",
       "      <td>40.43173</td>\n",
       "    </tr>\n",
       "    <tr>\n",
       "      <th>1</th>\n",
       "      <td>-73.59203</td>\n",
       "      <td>40.43177</td>\n",
       "    </tr>\n",
       "    <tr>\n",
       "      <th>2</th>\n",
       "      <td>-73.59188</td>\n",
       "      <td>40.43219</td>\n",
       "    </tr>\n",
       "  </tbody>\n",
       "</table>\n",
       "</div>"
      ],
      "text/plain": [
       "   longitude  latitude\n",
       "0  -73.59188  40.43173\n",
       "1  -73.59203  40.43177\n",
       "2  -73.59188  40.43219"
      ]
     },
     "execution_count": 7,
     "metadata": {},
     "output_type": "execute_result"
    }
   ],
   "source": [
    "df = pd.DataFrame({'longitude': [-73.59188, -73.59203, -73.59188], 'latitude': [40.43173, 40.43177, 40.43219]})\n",
    "df"
   ]
  }
 ],
 "metadata": {
  "kernelspec": {
   "display_name": "test",
   "language": "python",
   "name": "python3"
  },
  "language_info": {
   "codemirror_mode": {
    "name": "ipython",
    "version": 3
   },
   "file_extension": ".py",
   "mimetype": "text/x-python",
   "name": "python",
   "nbconvert_exporter": "python",
   "pygments_lexer": "ipython3",
   "version": "3.12.11"
  }
 },
 "nbformat": 4,
 "nbformat_minor": 5
}
