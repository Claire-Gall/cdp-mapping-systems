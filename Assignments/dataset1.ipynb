{
 "cells": [
  {
   "cell_type": "code",
   "execution_count": 1,
   "id": "954ff745",
   "metadata": {},
   "outputs": [],
   "source": [
    "# the bare minimum\n",
    "import matplotlib.pyplot as plt  # for plotting\n",
    "import geopandas as gpd  # for geospatial data handling\n",
    "from matplotlib.lines import Line2D\n",
    "\n",
    "# more advanced\n",
    "from lonboard._map import Map\n",
    "from lonboard._layer import PolygonLayer  # for mapping in 3D\n",
    "from lonboard.colormap import (\n",
    "    apply_categorical_cmap,\n",
    "    apply_continuous_cmap,\n",
    ")  # for assigning colors\n",
    "from palettable.colorbrewer.sequential import PuRd_9  # for color palettes\n",
    "from matplotlib.colors import LogNorm  # for logarithmic normalization\n",
    "import pygwalker as pyg  # for creating interactive data visualizations"
   ]
  },
  {
   "cell_type": "code",
   "execution_count": 2,
   "id": "5df7c216",
   "metadata": {},
   "outputs": [],
   "source": [
    "import geopandas as gpd  # for geospatial data handling"
   ]
  },
  {
   "cell_type": "code",
   "execution_count": 3,
   "id": "181b1a03",
   "metadata": {},
   "outputs": [
    {
     "name": "stdout",
     "output_type": "stream",
     "text": [
      "['02_Geoprocessing.md', 'dataset1.ipynb', 'Assignments.md', 'dataprocessinghw.ipynb', '04_Networks.md', '03_Web_Mapping.md', '00_Getting_Started.md', 'assignment1.ipnyb', '01_Loading_Visualizing.md']\n"
     ]
    }
   ],
   "source": [
    "import os\n",
    "print(os.listdir())"
   ]
  },
  {
   "cell_type": "code",
   "execution_count": 4,
   "id": "a27707ed",
   "metadata": {},
   "outputs": [],
   "source": [
    "pluto = gpd.read_file(\"../Data/Food_Scrap_Drop-Off_Locations_in_NYC_20250710.csv\", )"
   ]
  },
  {
   "cell_type": "code",
   "execution_count": 5,
   "id": "76ca190a",
   "metadata": {},
   "outputs": [
    {
     "data": {
      "text/html": [
       "<div>\n",
       "<style scoped>\n",
       "    .dataframe tbody tr th:only-of-type {\n",
       "        vertical-align: middle;\n",
       "    }\n",
       "\n",
       "    .dataframe tbody tr th {\n",
       "        vertical-align: top;\n",
       "    }\n",
       "\n",
       "    .dataframe thead th {\n",
       "        text-align: right;\n",
       "    }\n",
       "</style>\n",
       "<table border=\"1\" class=\"dataframe\">\n",
       "  <thead>\n",
       "    <tr style=\"text-align: right;\">\n",
       "      <th></th>\n",
       "      <th>Borough</th>\n",
       "      <th>NTAName</th>\n",
       "      <th>SiteName</th>\n",
       "      <th>SiteAddr</th>\n",
       "      <th>Hosted_By</th>\n",
       "      <th>Open_Month</th>\n",
       "      <th>Day_Hours</th>\n",
       "      <th>Notes</th>\n",
       "      <th>Website</th>\n",
       "      <th>BoroCD</th>\n",
       "      <th>...</th>\n",
       "      <th>Object ID</th>\n",
       "      <th>Location Point</th>\n",
       "      <th>App Android</th>\n",
       "      <th>App iOS</th>\n",
       "      <th>Assembly District</th>\n",
       "      <th>Congress District</th>\n",
       "      <th>DSNY District</th>\n",
       "      <th>DSNY Section</th>\n",
       "      <th>DSNY Zone</th>\n",
       "      <th>Senate District</th>\n",
       "    </tr>\n",
       "  </thead>\n",
       "  <tbody>\n",
       "    <tr>\n",
       "      <th>0</th>\n",
       "      <td>Brooklyn</td>\n",
       "      <td>Bay Ridge</td>\n",
       "      <td>4th Avenue Presbyterian Church</td>\n",
       "      <td>6753 4th Avenue, Brooklyn, NY 11220</td>\n",
       "      <td>4th Avenue Presbyterian Church</td>\n",
       "      <td>Year Round</td>\n",
       "      <td>Every day (Start Time: Dawn - End Time:  Dusk)</td>\n",
       "      <td>No meat, bones, or dairy.</td>\n",
       "      <td></td>\n",
       "      <td>310</td>\n",
       "      <td>...</td>\n",
       "      <td>49584</td>\n",
       "      <td>POINT (-74.022767 40.635514)</td>\n",
       "      <td></td>\n",
       "      <td></td>\n",
       "      <td>51</td>\n",
       "      <td>10</td>\n",
       "      <td>BKS10</td>\n",
       "      <td>BKS101</td>\n",
       "      <td>BKS</td>\n",
       "      <td>17</td>\n",
       "    </tr>\n",
       "    <tr>\n",
       "      <th>1</th>\n",
       "      <td>Manhattan</td>\n",
       "      <td>East Midtown-Turtle Bay</td>\n",
       "      <td>Dag Hammarskjold Plaza Greenmarket</td>\n",
       "      <td>E 47th St &amp; 2nd Ave</td>\n",
       "      <td>GrowNYC</td>\n",
       "      <td>Year Round</td>\n",
       "      <td>Wednesday (Start Time: 8:00 AM - End Time:  12...</td>\n",
       "      <td></td>\n",
       "      <td>grownyc.org/compost</td>\n",
       "      <td>106</td>\n",
       "      <td>...</td>\n",
       "      <td>49444</td>\n",
       "      <td>POINT (-73.969036 40.752606)</td>\n",
       "      <td></td>\n",
       "      <td></td>\n",
       "      <td>74</td>\n",
       "      <td>12</td>\n",
       "      <td>MN06</td>\n",
       "      <td>MN063</td>\n",
       "      <td>MN</td>\n",
       "      <td>28</td>\n",
       "    </tr>\n",
       "    <tr>\n",
       "      <th>2</th>\n",
       "      <td>Manhattan</td>\n",
       "      <td>Hell's Kitchen</td>\n",
       "      <td>Hudson River Park's Pier 84 at W. 44th St.</td>\n",
       "      <td>Pier 84 at W. 44th St. near dog park</td>\n",
       "      <td>Staff at Hudson River Park</td>\n",
       "      <td>Year Round</td>\n",
       "      <td>Every day (Start Time: 7:00 AM - End Time:  7:...</td>\n",
       "      <td></td>\n",
       "      <td>https://hudsonriverpark.org/the-park/sustainab...</td>\n",
       "      <td>104</td>\n",
       "      <td>...</td>\n",
       "      <td>49412</td>\n",
       "      <td>POINT (-74.00025 40.76346)</td>\n",
       "      <td></td>\n",
       "      <td></td>\n",
       "      <td>67</td>\n",
       "      <td>12</td>\n",
       "      <td>MN04</td>\n",
       "      <td>MN043</td>\n",
       "      <td>MN</td>\n",
       "      <td>47</td>\n",
       "    </tr>\n",
       "    <tr>\n",
       "      <th>3</th>\n",
       "      <td>Manhattan</td>\n",
       "      <td>East Midtown-Turtle Bay</td>\n",
       "      <td>58th Street Library FSDO</td>\n",
       "      <td>127 East 58th Street</td>\n",
       "      <td>GrowNYC</td>\n",
       "      <td>Year Round</td>\n",
       "      <td>Wednesdays (Start Time: 7:30 AM - End Time:  1...</td>\n",
       "      <td></td>\n",
       "      <td>grownyc.org/compost</td>\n",
       "      <td>105</td>\n",
       "      <td>...</td>\n",
       "      <td>49405</td>\n",
       "      <td>POINT (-73.9693 40.76198)</td>\n",
       "      <td></td>\n",
       "      <td></td>\n",
       "      <td>73</td>\n",
       "      <td>12</td>\n",
       "      <td>MN05</td>\n",
       "      <td>MN052</td>\n",
       "      <td>MN</td>\n",
       "      <td>28</td>\n",
       "    </tr>\n",
       "    <tr>\n",
       "      <th>4</th>\n",
       "      <td>Manhattan</td>\n",
       "      <td>Tribeca-Civic Center</td>\n",
       "      <td>Tribeca Greenmarket</td>\n",
       "      <td>Greenwich St. &amp; Duane St</td>\n",
       "      <td>GrowNYC</td>\n",
       "      <td>Year Round</td>\n",
       "      <td>Saturday (Start Time: 8:00 AM - End Time:  1:0...</td>\n",
       "      <td></td>\n",
       "      <td>grownyc.org/compost</td>\n",
       "      <td>101</td>\n",
       "      <td>...</td>\n",
       "      <td>49317</td>\n",
       "      <td>POINT (-74.010793 40.717424)</td>\n",
       "      <td></td>\n",
       "      <td></td>\n",
       "      <td>66</td>\n",
       "      <td>10</td>\n",
       "      <td>MN01</td>\n",
       "      <td>MN013</td>\n",
       "      <td>MN</td>\n",
       "      <td>27</td>\n",
       "    </tr>\n",
       "  </tbody>\n",
       "</table>\n",
       "<p>5 rows × 27 columns</p>\n",
       "</div>"
      ],
      "text/plain": [
       "     Borough                  NTAName  \\\n",
       "0   Brooklyn                Bay Ridge   \n",
       "1  Manhattan  East Midtown-Turtle Bay   \n",
       "2  Manhattan           Hell's Kitchen   \n",
       "3  Manhattan  East Midtown-Turtle Bay   \n",
       "4  Manhattan     Tribeca-Civic Center   \n",
       "\n",
       "                                     SiteName  \\\n",
       "0              4th Avenue Presbyterian Church   \n",
       "1          Dag Hammarskjold Plaza Greenmarket   \n",
       "2  Hudson River Park's Pier 84 at W. 44th St.   \n",
       "3                    58th Street Library FSDO   \n",
       "4                         Tribeca Greenmarket   \n",
       "\n",
       "                               SiteAddr                       Hosted_By  \\\n",
       "0   6753 4th Avenue, Brooklyn, NY 11220  4th Avenue Presbyterian Church   \n",
       "1                   E 47th St & 2nd Ave                         GrowNYC   \n",
       "2  Pier 84 at W. 44th St. near dog park      Staff at Hudson River Park   \n",
       "3                  127 East 58th Street                         GrowNYC   \n",
       "4              Greenwich St. & Duane St                         GrowNYC   \n",
       "\n",
       "   Open_Month                                          Day_Hours  \\\n",
       "0  Year Round     Every day (Start Time: Dawn - End Time:  Dusk)   \n",
       "1  Year Round  Wednesday (Start Time: 8:00 AM - End Time:  12...   \n",
       "2  Year Round  Every day (Start Time: 7:00 AM - End Time:  7:...   \n",
       "3  Year Round  Wednesdays (Start Time: 7:30 AM - End Time:  1...   \n",
       "4  Year Round  Saturday (Start Time: 8:00 AM - End Time:  1:0...   \n",
       "\n",
       "                       Notes  \\\n",
       "0  No meat, bones, or dairy.   \n",
       "1                              \n",
       "2                              \n",
       "3                              \n",
       "4                              \n",
       "\n",
       "                                             Website BoroCD  ... Object ID  \\\n",
       "0                                                       310  ...     49584   \n",
       "1                                grownyc.org/compost    106  ...     49444   \n",
       "2  https://hudsonriverpark.org/the-park/sustainab...    104  ...     49412   \n",
       "3                                grownyc.org/compost    105  ...     49405   \n",
       "4                                grownyc.org/compost    101  ...     49317   \n",
       "\n",
       "                 Location Point App Android App iOS Assembly District  \\\n",
       "0  POINT (-74.022767 40.635514)                                    51   \n",
       "1  POINT (-73.969036 40.752606)                                    74   \n",
       "2    POINT (-74.00025 40.76346)                                    67   \n",
       "3     POINT (-73.9693 40.76198)                                    73   \n",
       "4  POINT (-74.010793 40.717424)                                    66   \n",
       "\n",
       "  Congress District DSNY District DSNY Section DSNY Zone Senate District  \n",
       "0                10         BKS10       BKS101       BKS              17  \n",
       "1                12          MN06        MN063        MN              28  \n",
       "2                12          MN04        MN043        MN              47  \n",
       "3                12          MN05        MN052        MN              28  \n",
       "4                10          MN01        MN013        MN              27  \n",
       "\n",
       "[5 rows x 27 columns]"
      ]
     },
     "execution_count": 5,
     "metadata": {},
     "output_type": "execute_result"
    }
   ],
   "source": [
    "pluto.head()"
   ]
  },
  {
   "cell_type": "code",
   "execution_count": 6,
   "id": "91b2e2de",
   "metadata": {},
   "outputs": [
    {
     "data": {
      "text/plain": [
       "Index(['Borough', 'NTAName', 'SiteName', 'SiteAddr', 'Hosted_By', 'Open_Month',\n",
       "       'Day_Hours', 'Notes', 'Website', 'BoroCD', 'CouncilDis', 'ct2010',\n",
       "       'BBL', 'BIN', 'Latitude', 'Longitude', 'PolicePrec', 'Object ID',\n",
       "       'Location Point', 'App Android', 'App iOS', 'Assembly District',\n",
       "       'Congress District', 'DSNY District', 'DSNY Section', 'DSNY Zone',\n",
       "       'Senate District'],\n",
       "      dtype='object')"
      ]
     },
     "execution_count": 6,
     "metadata": {},
     "output_type": "execute_result"
    }
   ],
   "source": [
    "pluto.columns"
   ]
  },
  {
   "cell_type": "code",
   "execution_count": 7,
   "id": "c3c32aca",
   "metadata": {},
   "outputs": [
    {
     "data": {
      "text/plain": [
       "[dtype('O'),\n",
       " dtype('O'),\n",
       " dtype('O'),\n",
       " dtype('O'),\n",
       " dtype('O'),\n",
       " dtype('O'),\n",
       " dtype('O'),\n",
       " dtype('O'),\n",
       " dtype('O'),\n",
       " dtype('O'),\n",
       " dtype('O'),\n",
       " dtype('O'),\n",
       " dtype('O'),\n",
       " dtype('O'),\n",
       " dtype('O'),\n",
       " dtype('O'),\n",
       " dtype('O'),\n",
       " dtype('O'),\n",
       " dtype('O'),\n",
       " dtype('O'),\n",
       " dtype('O'),\n",
       " dtype('O'),\n",
       " dtype('O'),\n",
       " dtype('O'),\n",
       " dtype('O'),\n",
       " dtype('O'),\n",
       " dtype('O')]"
      ]
     },
     "execution_count": 7,
     "metadata": {},
     "output_type": "execute_result"
    }
   ],
   "source": [
    "list(pluto.dtypes)"
   ]
  },
  {
   "cell_type": "code",
   "execution_count": null,
   "id": "bbfd3220",
   "metadata": {},
   "outputs": [
    {
     "data": {
      "text/plain": [
       "Open_Month\n",
       "Year Round                      557\n",
       "March - November                  6\n",
       "April - October                   4\n",
       "Seasonal                          3\n",
       "April - November                  2\n",
       "September - June                  2\n",
       "Year Round (Except February)      2\n",
       "April - August                    1\n",
       "End of March - January 30         1\n",
       "Closed during Winter              1\n",
       "July - December                   1\n",
       "July 14th-November 24th           1\n",
       "June 11 - November 19             1\n",
       "June 15-Oct 26                    1\n",
       "May 1- November 1                 1\n",
       "July - September                  1\n",
       "July - November                   1\n",
       "July- November 16                 1\n",
       "June 25 - November 12             1\n",
       "May - October                     1\n",
       "April-November                    1\n",
       "Spring - Fall                     1\n",
       "Name: count, dtype: int64"
      ]
     },
     "execution_count": 8,
     "metadata": {},
     "output_type": "execute_result"
    }
   ],
   "source": [
    "# specifiying for the number of food drop-off sites that are open year-round versus seasonally\n",
    "\n",
    "pluto.Open_Month.value_counts()"
   ]
  },
  {
   "cell_type": "code",
   "execution_count": 9,
   "id": "df7b1700",
   "metadata": {},
   "outputs": [
    {
     "data": {
      "text/plain": [
       "Borough\n",
       "Manhattan        251\n",
       "Brooklyn         171\n",
       "Bronx             75\n",
       "Queens            75\n",
       "Staten Island     19\n",
       "Name: count, dtype: int64"
      ]
     },
     "execution_count": 9,
     "metadata": {},
     "output_type": "execute_result"
    }
   ],
   "source": [
    "pluto.Borough.value_counts()"
   ]
  },
  {
   "cell_type": "code",
   "execution_count": 12,
   "id": "afa4f866",
   "metadata": {},
   "outputs": [],
   "source": [
    "# Now we only want the food scrap sites that are open year-round\n",
    "\n",
    "pluto_year_round = pluto[pluto.Open_Month == \"Year-Round\"].copy()"
   ]
  },
  {
   "cell_type": "code",
   "execution_count": null,
   "id": "dd05df47",
   "metadata": {},
   "outputs": [
    {
     "data": {
      "text/plain": [
       "Open_Month\n",
       "September - June                                               Staten IslandBronx\n",
       "June 11 - November 19                                               Staten Island\n",
       "Closed during Winter                                                Staten Island\n",
       "April - November                                                     QueensQueens\n",
       "Year Round (Except February)                                       QueensBrooklyn\n",
       "April - August                                                             Queens\n",
       "July - November                                                            Queens\n",
       "June 15-Oct 26                                                             Queens\n",
       "July - December                                                            Queens\n",
       "May - October                                                              Queens\n",
       "May 1- November 1                                                       Manhattan\n",
       "April-November                                                          Manhattan\n",
       "Seasonal                                           BrooklynStaten IslandManhattan\n",
       "April - October                                    BrooklynQueensBrooklynBrooklyn\n",
       "Year Round                      BrooklynManhattanManhattanManhattanManhattanSt...\n",
       "March - November                    BrooklynBronxBrooklynBrooklynBrooklynBrooklyn\n",
       "End of March - January 30                                                Brooklyn\n",
       "July- November 16                                                           Bronx\n",
       "July 14th-November 24th                                                     Bronx\n",
       "Spring - Fall                                                               Bronx\n",
       "July - September                                                            Bronx\n",
       "June 25 - November 12                                                       Bronx\n",
       "Name: Borough, dtype: object"
      ]
     },
     "execution_count": 13,
     "metadata": {},
     "output_type": "execute_result"
    }
   ],
   "source": [
    "pluto.groupby(\"Open_Month\").Borough.sum().sort_values(ascending=False)"
   ]
  },
  {
   "cell_type": "code",
   "execution_count": 18,
   "id": "830da5cc",
   "metadata": {},
   "outputs": [
    {
     "data": {
      "text/plain": [
       "Open_Month                    Borough      \n",
       "Year Round                    Manhattan        248\n",
       "                              Brooklyn         160\n",
       "                              Bronx             68\n",
       "                              Queens            66\n",
       "                              Staten Island     15\n",
       "March - November              Brooklyn           5\n",
       "April - October               Brooklyn           3\n",
       "April - November              Queens             2\n",
       "May 1- November 1             Manhattan          1\n",
       "Spring - Fall                 Bronx              1\n",
       "September - June              Staten Island      1\n",
       "                              Bronx              1\n",
       "Seasonal                      Staten Island      1\n",
       "                              Manhattan          1\n",
       "                              Brooklyn           1\n",
       "Year Round (Except February)  Brooklyn           1\n",
       "April - August                Queens             1\n",
       "March - November              Bronx              1\n",
       "May - October                 Queens             1\n",
       "June 25 - November 12         Bronx              1\n",
       "June 15-Oct 26                Queens             1\n",
       "June 11 - November 19         Staten Island      1\n",
       "July- November 16             Bronx              1\n",
       "July 14th-November 24th       Bronx              1\n",
       "July - September              Bronx              1\n",
       "July - November               Queens             1\n",
       "July - December               Queens             1\n",
       "End of March - January 30     Brooklyn           1\n",
       "Closed during Winter          Staten Island      1\n",
       "April-November                Manhattan          1\n",
       "April - October               Queens             1\n",
       "Year Round (Except February)  Queens             1\n",
       "Name: count, dtype: int64"
      ]
     },
     "execution_count": 18,
     "metadata": {},
     "output_type": "execute_result"
    }
   ],
   "source": [
    "pluto.groupby(\"Open_Month\").Borough.value_counts().sort_values(ascending=False)"
   ]
  },
  {
   "cell_type": "code",
   "execution_count": 19,
   "id": "661237e9",
   "metadata": {},
   "outputs": [
    {
     "data": {
      "text/plain": [
       "Text(0.5, 1.0, 'Distribution of Food Scrap Drop-off Sites by Borough')"
      ]
     },
     "execution_count": 19,
     "metadata": {},
     "output_type": "execute_result"
    },
    {
     "data": {
      "image/png": "[encoded data removed]",
      "text/plain": [
       "<Figure size 640x480 with 1 Axes>"
      ]
     },
     "metadata": {},
     "output_type": "display_data"
    }
   ],
   "source": [
    "pluto.groupby(\"Open_Month\").Borough.value_counts().sort_values(ascending=False).plot.bar()\n",
    "plt.title(\"Distribution of Food Scrap Drop-off Sites by Borough\")"
   ]
  },
  {
   "cell_type": "code",
   "execution_count": 20,
   "id": "80e9c2f7",
   "metadata": {},
   "outputs": [
    {
     "ename": "KeyError",
     "evalue": "'Open Month'",
     "output_type": "error",
     "traceback": [
      "\u001b[31m---------------------------------------------------------------------------\u001b[39m",
      "\u001b[31mKeyError\u001b[39m                                  Traceback (most recent call last)",
      "\u001b[36mCell\u001b[39m\u001b[36m \u001b[39m\u001b[32mIn[20]\u001b[39m\u001b[32m, line 3\u001b[39m\n\u001b[32m      1\u001b[39m \u001b[38;5;66;03m# plot both open month and borough count on the same plot with a secondary y-axis\u001b[39;00m\n\u001b[32m      2\u001b[39m fig, ax = plt.subplots()\n\u001b[32m----> \u001b[39m\u001b[32m3\u001b[39m by_lot_area = \u001b[43mpluto\u001b[49m\u001b[43m.\u001b[49m\u001b[43mgroupby\u001b[49m\u001b[43m(\u001b[49m\u001b[33;43m\"\u001b[39;49m\u001b[33;43mOpen Month\u001b[39;49m\u001b[33;43m\"\u001b[39;49m\u001b[43m)\u001b[49m.Borough.value_counts().sort_values(ascending=\u001b[38;5;28;01mFalse\u001b[39;00m)\n\u001b[32m      5\u001b[39m by_lot_area.plot.bar(ax=ax, color=\u001b[33m\"\u001b[39m\u001b[33mlight blue\u001b[39m\u001b[33m\"\u001b[39m)\n\u001b[32m      7\u001b[39m \u001b[38;5;66;03m# get order to apply below\u001b[39;00m\n",
      "\u001b[36mFile \u001b[39m\u001b[32m/opt/miniconda3/envs/test/lib/python3.12/site-packages/pandas/core/frame.py:9183\u001b[39m, in \u001b[36mDataFrame.groupby\u001b[39m\u001b[34m(self, by, axis, level, as_index, sort, group_keys, observed, dropna)\u001b[39m\n\u001b[32m   9180\u001b[39m \u001b[38;5;28;01mif\u001b[39;00m level \u001b[38;5;129;01mis\u001b[39;00m \u001b[38;5;28;01mNone\u001b[39;00m \u001b[38;5;129;01mand\u001b[39;00m by \u001b[38;5;129;01mis\u001b[39;00m \u001b[38;5;28;01mNone\u001b[39;00m:\n\u001b[32m   9181\u001b[39m     \u001b[38;5;28;01mraise\u001b[39;00m \u001b[38;5;167;01mTypeError\u001b[39;00m(\u001b[33m\"\u001b[39m\u001b[33mYou have to supply one of \u001b[39m\u001b[33m'\u001b[39m\u001b[33mby\u001b[39m\u001b[33m'\u001b[39m\u001b[33m and \u001b[39m\u001b[33m'\u001b[39m\u001b[33mlevel\u001b[39m\u001b[33m'\u001b[39m\u001b[33m\"\u001b[39m)\n\u001b[32m-> \u001b[39m\u001b[32m9183\u001b[39m \u001b[38;5;28;01mreturn\u001b[39;00m \u001b[43mDataFrameGroupBy\u001b[49m\u001b[43m(\u001b[49m\n\u001b[32m   9184\u001b[39m \u001b[43m    \u001b[49m\u001b[43mobj\u001b[49m\u001b[43m=\u001b[49m\u001b[38;5;28;43mself\u001b[39;49m\u001b[43m,\u001b[49m\n\u001b[32m   9185\u001b[39m \u001b[43m    \u001b[49m\u001b[43mkeys\u001b[49m\u001b[43m=\u001b[49m\u001b[43mby\u001b[49m\u001b[43m,\u001b[49m\n\u001b[32m   9186\u001b[39m \u001b[43m    \u001b[49m\u001b[43maxis\u001b[49m\u001b[43m=\u001b[49m\u001b[43maxis\u001b[49m\u001b[43m,\u001b[49m\n\u001b[32m   9187\u001b[39m \u001b[43m    \u001b[49m\u001b[43mlevel\u001b[49m\u001b[43m=\u001b[49m\u001b[43mlevel\u001b[49m\u001b[43m,\u001b[49m\n\u001b[32m   9188\u001b[39m \u001b[43m    \u001b[49m\u001b[43mas_index\u001b[49m\u001b[43m=\u001b[49m\u001b[43mas_index\u001b[49m\u001b[43m,\u001b[49m\n\u001b[32m   9189\u001b[39m \u001b[43m    \u001b[49m\u001b[43msort\u001b[49m\u001b[43m=\u001b[49m\u001b[43msort\u001b[49m\u001b[43m,\u001b[49m\n\u001b[32m   9190\u001b[39m \u001b[43m    \u001b[49m\u001b[43mgroup_keys\u001b[49m\u001b[43m=\u001b[49m\u001b[43mgroup_keys\u001b[49m\u001b[43m,\u001b[49m\n\u001b[32m   9191\u001b[39m \u001b[43m    \u001b[49m\u001b[43mobserved\u001b[49m\u001b[43m=\u001b[49m\u001b[43mobserved\u001b[49m\u001b[43m,\u001b[49m\n\u001b[32m   9192\u001b[39m \u001b[43m    \u001b[49m\u001b[43mdropna\u001b[49m\u001b[43m=\u001b[49m\u001b[43mdropna\u001b[49m\u001b[43m,\u001b[49m\n\u001b[32m   9193\u001b[39m \u001b[43m\u001b[49m\u001b[43m)\u001b[49m\n",
      "\u001b[36mFile \u001b[39m\u001b[32m/opt/miniconda3/envs/test/lib/python3.12/site-packages/pandas/core/groupby/groupby.py:1329\u001b[39m, in \u001b[36mGroupBy.__init__\u001b[39m\u001b[34m(self, obj, keys, axis, level, grouper, exclusions, selection, as_index, sort, group_keys, observed, dropna)\u001b[39m\n\u001b[32m   1326\u001b[39m \u001b[38;5;28mself\u001b[39m.dropna = dropna\n\u001b[32m   1328\u001b[39m \u001b[38;5;28;01mif\u001b[39;00m grouper \u001b[38;5;129;01mis\u001b[39;00m \u001b[38;5;28;01mNone\u001b[39;00m:\n\u001b[32m-> \u001b[39m\u001b[32m1329\u001b[39m     grouper, exclusions, obj = \u001b[43mget_grouper\u001b[49m\u001b[43m(\u001b[49m\n\u001b[32m   1330\u001b[39m \u001b[43m        \u001b[49m\u001b[43mobj\u001b[49m\u001b[43m,\u001b[49m\n\u001b[32m   1331\u001b[39m \u001b[43m        \u001b[49m\u001b[43mkeys\u001b[49m\u001b[43m,\u001b[49m\n\u001b[32m   1332\u001b[39m \u001b[43m        \u001b[49m\u001b[43maxis\u001b[49m\u001b[43m=\u001b[49m\u001b[43maxis\u001b[49m\u001b[43m,\u001b[49m\n\u001b[32m   1333\u001b[39m \u001b[43m        \u001b[49m\u001b[43mlevel\u001b[49m\u001b[43m=\u001b[49m\u001b[43mlevel\u001b[49m\u001b[43m,\u001b[49m\n\u001b[32m   1334\u001b[39m \u001b[43m        \u001b[49m\u001b[43msort\u001b[49m\u001b[43m=\u001b[49m\u001b[43msort\u001b[49m\u001b[43m,\u001b[49m\n\u001b[32m   1335\u001b[39m \u001b[43m        \u001b[49m\u001b[43mobserved\u001b[49m\u001b[43m=\u001b[49m\u001b[38;5;28;43;01mFalse\u001b[39;49;00m\u001b[43m \u001b[49m\u001b[38;5;28;43;01mif\u001b[39;49;00m\u001b[43m \u001b[49m\u001b[43mobserved\u001b[49m\u001b[43m \u001b[49m\u001b[38;5;129;43;01mis\u001b[39;49;00m\u001b[43m \u001b[49m\u001b[43mlib\u001b[49m\u001b[43m.\u001b[49m\u001b[43mno_default\u001b[49m\u001b[43m \u001b[49m\u001b[38;5;28;43;01melse\u001b[39;49;00m\u001b[43m \u001b[49m\u001b[43mobserved\u001b[49m\u001b[43m,\u001b[49m\n\u001b[32m   1336\u001b[39m \u001b[43m        \u001b[49m\u001b[43mdropna\u001b[49m\u001b[43m=\u001b[49m\u001b[38;5;28;43mself\u001b[39;49m\u001b[43m.\u001b[49m\u001b[43mdropna\u001b[49m\u001b[43m,\u001b[49m\n\u001b[32m   1337\u001b[39m \u001b[43m    \u001b[49m\u001b[43m)\u001b[49m\n\u001b[32m   1339\u001b[39m \u001b[38;5;28;01mif\u001b[39;00m observed \u001b[38;5;129;01mis\u001b[39;00m lib.no_default:\n\u001b[32m   1340\u001b[39m     \u001b[38;5;28;01mif\u001b[39;00m \u001b[38;5;28many\u001b[39m(ping._passed_categorical \u001b[38;5;28;01mfor\u001b[39;00m ping \u001b[38;5;129;01min\u001b[39;00m grouper.groupings):\n",
      "\u001b[36mFile \u001b[39m\u001b[32m/opt/miniconda3/envs/test/lib/python3.12/site-packages/pandas/core/groupby/grouper.py:1043\u001b[39m, in \u001b[36mget_grouper\u001b[39m\u001b[34m(obj, key, axis, level, sort, observed, validate, dropna)\u001b[39m\n\u001b[32m   1041\u001b[39m         in_axis, level, gpr = \u001b[38;5;28;01mFalse\u001b[39;00m, gpr, \u001b[38;5;28;01mNone\u001b[39;00m\n\u001b[32m   1042\u001b[39m     \u001b[38;5;28;01melse\u001b[39;00m:\n\u001b[32m-> \u001b[39m\u001b[32m1043\u001b[39m         \u001b[38;5;28;01mraise\u001b[39;00m \u001b[38;5;167;01mKeyError\u001b[39;00m(gpr)\n\u001b[32m   1044\u001b[39m \u001b[38;5;28;01melif\u001b[39;00m \u001b[38;5;28misinstance\u001b[39m(gpr, Grouper) \u001b[38;5;129;01mand\u001b[39;00m gpr.key \u001b[38;5;129;01mis\u001b[39;00m \u001b[38;5;129;01mnot\u001b[39;00m \u001b[38;5;28;01mNone\u001b[39;00m:\n\u001b[32m   1045\u001b[39m     \u001b[38;5;66;03m# Add key to exclusions\u001b[39;00m\n\u001b[32m   1046\u001b[39m     exclusions.add(gpr.key)\n",
      "\u001b[31mKeyError\u001b[39m: 'Open Month'"
     ]
    },
    {
     "data": {
      "image/png": "[encoded data removed]",
      "text/plain": [
       "<Figure size 640x480 with 1 Axes>"
      ]
     },
     "metadata": {},
     "output_type": "display_data"
    }
   ],
   "source": [
    "# plot both open month and borough count on the same plot with a secondary y-axis\n",
    "fig, ax = plt.subplots()\n",
    "by_lot_area = pluto.groupby(\"Open Month\").Borough.value_counts().sort_values(ascending=False)\n",
    "\n",
    "by_lot_area.plot.bar(ax=ax, color=\"light blue\")\n",
    "\n",
    "# get order to apply below\n",
    "order = {v: i for i, v in enumerate(by_lot_area.index)}\n",
    "\n",
    "ax.set_ylabel(\"Borough Count\")\n",
    "ax.set_xlabel(\"Day_Hours\")\n",
    "\n",
    "ax2 = ax.twinx()\n",
    "pluto.groupby(\"Open Month\").Borough.value_counts().reindex(by_lot_area.index).plot.bar(\n",
    "    ax=ax2, edgecolor=\"black\", color=\"none\"\n",
    ")\n",
    "ax2.set_ylabel(\"Borough Count\")\n",
    "\n",
    "plt.title(\"Total Number of Food Scrap Drop Off Sites by Borough, Open Month and Day Hours\")"
   ]
  }
 ],
 "metadata": {
  "kernelspec": {
   "display_name": "test",
   "language": "python",
   "name": "python3"
  },
  "language_info": {
   "codemirror_mode": {
    "name": "ipython",
    "version": 3
   },
   "file_extension": ".py",
   "mimetype": "text/x-python",
   "name": "python",
   "nbconvert_exporter": "python",
   "pygments_lexer": "ipython3",
   "version": "3.12.11"
  }
 },
 "nbformat": 4,
 "nbformat_minor": 5
}
