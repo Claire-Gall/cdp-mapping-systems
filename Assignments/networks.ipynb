{
 "cells": [
  {
   "cell_type": "code",
   "execution_count": 1,
   "id": "699aeead",
   "metadata": {},
   "outputs": [
    {
     "name": "stdout",
     "output_type": "stream",
     "text": [
      "Requirement already satisfied: osmnx in /opt/miniconda3/envs/cdpgis5/lib/python3.12/site-packages (2.0.5)\n",
      "Requirement already satisfied: geopandas>=1.0.1 in /opt/miniconda3/envs/cdpgis5/lib/python3.12/site-packages (from osmnx) (1.1.1)\n",
      "Requirement already satisfied: networkx>=2.5 in /opt/miniconda3/envs/cdpgis5/lib/python3.12/site-packages (from osmnx) (3.4.2)\n",
      "Requirement already satisfied: numpy>=1.22 in /opt/miniconda3/envs/cdpgis5/lib/python3.12/site-packages (from osmnx) (2.2.6)\n",
      "Requirement already satisfied: pandas>=1.4 in /opt/miniconda3/envs/cdpgis5/lib/python3.12/site-packages (from osmnx) (2.2.3)\n",
      "Requirement already satisfied: requests>=2.27 in /opt/miniconda3/envs/cdpgis5/lib/python3.12/site-packages (from osmnx) (2.32.4)\n",
      "Requirement already satisfied: shapely>=2.0 in /opt/miniconda3/envs/cdpgis5/lib/python3.12/site-packages (from osmnx) (2.0.6)\n",
      "Requirement already satisfied: pyogrio>=0.7.2 in /opt/miniconda3/envs/cdpgis5/lib/python3.12/site-packages (from geopandas>=1.0.1->osmnx) (0.11.0)\n",
      "Requirement already satisfied: packaging in /opt/miniconda3/envs/cdpgis5/lib/python3.12/site-packages (from geopandas>=1.0.1->osmnx) (25.0)\n",
      "Requirement already satisfied: pyproj>=3.5.0 in /opt/miniconda3/envs/cdpgis5/lib/python3.12/site-packages (from geopandas>=1.0.1->osmnx) (3.6.1)\n",
      "Requirement already satisfied: python-dateutil>=2.8.2 in /opt/miniconda3/envs/cdpgis5/lib/python3.12/site-packages (from pandas>=1.4->osmnx) (2.9.0.post0)\n",
      "Requirement already satisfied: pytz>=2020.1 in /opt/miniconda3/envs/cdpgis5/lib/python3.12/site-packages (from pandas>=1.4->osmnx) (2025.2)\n",
      "Requirement already satisfied: tzdata>=2022.7 in /opt/miniconda3/envs/cdpgis5/lib/python3.12/site-packages (from pandas>=1.4->osmnx) (2025.2)\n",
      "Requirement already satisfied: certifi in /opt/miniconda3/envs/cdpgis5/lib/python3.12/site-packages (from pyogrio>=0.7.2->geopandas>=1.0.1->osmnx) (2025.7.14)\n",
      "Requirement already satisfied: six>=1.5 in /opt/miniconda3/envs/cdpgis5/lib/python3.12/site-packages (from python-dateutil>=2.8.2->pandas>=1.4->osmnx) (1.17.0)\n",
      "Requirement already satisfied: charset_normalizer<4,>=2 in /opt/miniconda3/envs/cdpgis5/lib/python3.12/site-packages (from requests>=2.27->osmnx) (3.3.2)\n",
      "Requirement already satisfied: idna<4,>=2.5 in /opt/miniconda3/envs/cdpgis5/lib/python3.12/site-packages (from requests>=2.27->osmnx) (3.7)\n",
      "Requirement already satisfied: urllib3<3,>=1.21.1 in /opt/miniconda3/envs/cdpgis5/lib/python3.12/site-packages (from requests>=2.27->osmnx) (2.5.0)\n",
      "Note: you may need to restart the kernel to use updated packages.\n"
     ]
    }
   ],
   "source": [
    "pip install osmnx"
   ]
  },
  {
   "cell_type": "code",
   "execution_count": 2,
   "id": "6ef450cc",
   "metadata": {},
   "outputs": [
    {
     "name": "stdout",
     "output_type": "stream",
     "text": [
      "Requirement already satisfied: h3 in /opt/miniconda3/envs/cdpgis5/lib/python3.12/site-packages (4.3.0)\n",
      "Note: you may need to restart the kernel to use updated packages.\n"
     ]
    }
   ],
   "source": [
    "pip install h3"
   ]
  },
  {
   "cell_type": "code",
   "execution_count": 3,
   "id": "26527e67",
   "metadata": {},
   "outputs": [
    {
     "name": "stdout",
     "output_type": "stream",
     "text": [
      "Requirement already satisfied: libpysal in /opt/miniconda3/envs/cdpgis5/lib/python3.12/site-packages (4.13.0)\n",
      "Requirement already satisfied: beautifulsoup4>=4.10 in /opt/miniconda3/envs/cdpgis5/lib/python3.12/site-packages (from libpysal) (4.13.4)\n",
      "Requirement already satisfied: geopandas>=0.10.0 in /opt/miniconda3/envs/cdpgis5/lib/python3.12/site-packages (from libpysal) (1.1.1)\n",
      "Requirement already satisfied: numpy>=1.22 in /opt/miniconda3/envs/cdpgis5/lib/python3.12/site-packages (from libpysal) (2.2.6)\n",
      "Requirement already satisfied: packaging>=22 in /opt/miniconda3/envs/cdpgis5/lib/python3.12/site-packages (from libpysal) (25.0)\n",
      "Requirement already satisfied: pandas>=1.4 in /opt/miniconda3/envs/cdpgis5/lib/python3.12/site-packages (from libpysal) (2.2.3)\n",
      "Requirement already satisfied: platformdirs>=2.0.2 in /opt/miniconda3/envs/cdpgis5/lib/python3.12/site-packages (from libpysal) (4.3.8)\n",
      "Requirement already satisfied: requests>=2.27 in /opt/miniconda3/envs/cdpgis5/lib/python3.12/site-packages (from libpysal) (2.32.4)\n",
      "Requirement already satisfied: scipy>=1.8 in /opt/miniconda3/envs/cdpgis5/lib/python3.12/site-packages (from libpysal) (1.15.3)\n",
      "Requirement already satisfied: shapely>=2.0.1 in /opt/miniconda3/envs/cdpgis5/lib/python3.12/site-packages (from libpysal) (2.0.6)\n",
      "Requirement already satisfied: scikit-learn>=1.1 in /opt/miniconda3/envs/cdpgis5/lib/python3.12/site-packages (from libpysal) (1.6.1)\n",
      "Requirement already satisfied: soupsieve>1.2 in /opt/miniconda3/envs/cdpgis5/lib/python3.12/site-packages (from beautifulsoup4>=4.10->libpysal) (2.7)\n",
      "Requirement already satisfied: typing-extensions>=4.0.0 in /opt/miniconda3/envs/cdpgis5/lib/python3.12/site-packages (from beautifulsoup4>=4.10->libpysal) (4.14.1)\n",
      "Requirement already satisfied: pyogrio>=0.7.2 in /opt/miniconda3/envs/cdpgis5/lib/python3.12/site-packages (from geopandas>=0.10.0->libpysal) (0.11.0)\n",
      "Requirement already satisfied: pyproj>=3.5.0 in /opt/miniconda3/envs/cdpgis5/lib/python3.12/site-packages (from geopandas>=0.10.0->libpysal) (3.6.1)\n",
      "Requirement already satisfied: python-dateutil>=2.8.2 in /opt/miniconda3/envs/cdpgis5/lib/python3.12/site-packages (from pandas>=1.4->libpysal) (2.9.0.post0)\n",
      "Requirement already satisfied: pytz>=2020.1 in /opt/miniconda3/envs/cdpgis5/lib/python3.12/site-packages (from pandas>=1.4->libpysal) (2025.2)\n",
      "Requirement already satisfied: tzdata>=2022.7 in /opt/miniconda3/envs/cdpgis5/lib/python3.12/site-packages (from pandas>=1.4->libpysal) (2025.2)\n",
      "Requirement already satisfied: certifi in /opt/miniconda3/envs/cdpgis5/lib/python3.12/site-packages (from pyogrio>=0.7.2->geopandas>=0.10.0->libpysal) (2025.7.14)\n",
      "Requirement already satisfied: six>=1.5 in /opt/miniconda3/envs/cdpgis5/lib/python3.12/site-packages (from python-dateutil>=2.8.2->pandas>=1.4->libpysal) (1.17.0)\n",
      "Requirement already satisfied: charset_normalizer<4,>=2 in /opt/miniconda3/envs/cdpgis5/lib/python3.12/site-packages (from requests>=2.27->libpysal) (3.3.2)\n",
      "Requirement already satisfied: idna<4,>=2.5 in /opt/miniconda3/envs/cdpgis5/lib/python3.12/site-packages (from requests>=2.27->libpysal) (3.7)\n",
      "Requirement already satisfied: urllib3<3,>=1.21.1 in /opt/miniconda3/envs/cdpgis5/lib/python3.12/site-packages (from requests>=2.27->libpysal) (2.5.0)\n",
      "Requirement already satisfied: joblib>=1.2.0 in /opt/miniconda3/envs/cdpgis5/lib/python3.12/site-packages (from scikit-learn>=1.1->libpysal) (1.4.2)\n",
      "Requirement already satisfied: threadpoolctl>=3.1.0 in /opt/miniconda3/envs/cdpgis5/lib/python3.12/site-packages (from scikit-learn>=1.1->libpysal) (3.5.0)\n",
      "Note: you may need to restart the kernel to use updated packages.\n"
     ]
    }
   ],
   "source": [
    "pip install libpysal"
   ]
  },
  {
   "cell_type": "code",
   "execution_count": 1,
   "id": "ffb8120e",
   "metadata": {},
   "outputs": [],
   "source": [
    "import geopandas as gpd\n",
    "import numpy as np\n",
    "import matplotlib.pyplot as plt\n",
    "from shapely.geometry import LineString, MultiLineString, Point, Polygon\n",
    "import pandas as pd\n",
    "import requests\n",
    "import networkx as nx\n",
    "import osmnx as ox\n",
    "import h3\n",
    "import libpysal as lps"
   ]
  },
  {
   "cell_type": "code",
   "execution_count": 4,
   "id": "a8a4b729",
   "metadata": {},
   "outputs": [],
   "source": [
    "def set_axis_off():\n",
    "    \"\"\"\n",
    "    Set the default matplotlib settings to turn off axes and ticks.\n",
    "    This function modifies the global matplotlib configuration to hide axes and ticks\n",
    "    for all plots created after this function is called.\n",
    "    \"\"\"\n",
    "    # set axis off by default\n",
    "    plt.rcParams[\"axes.axisbelow\"] = False\n",
    "    plt.rcParams[\"axes.axisbelow\"] = False\n",
    "    plt.rcParams[\"axes.spines.left\"] = False\n",
    "    plt.rcParams[\"axes.spines.right\"] = False\n",
    "    plt.rcParams[\"axes.spines.top\"] = False\n",
    "    plt.rcParams[\"axes.spines.bottom\"] = False\n",
    "\n",
    "    # set tick params off by default\n",
    "    plt.rcParams[\"xtick.bottom\"] = False\n",
    "    plt.rcParams[\"xtick.top\"] = False\n",
    "    plt.rcParams[\"xtick.labelbottom\"] = False\n",
    "    plt.rcParams[\"xtick.labeltop\"] = False\n",
    "    plt.rcParams[\"ytick.left\"] = False\n",
    "    plt.rcParams[\"ytick.right\"] = False\n",
    "    plt.rcParams[\"ytick.labelleft\"] = False\n",
    "    plt.rcParams[\"ytick.labelright\"] = False"
   ]
  },
  {
   "cell_type": "code",
   "execution_count": 5,
   "id": "64a693d7",
   "metadata": {},
   "outputs": [
    {
     "data": {
      "text/plain": [
       "<function __main__.set_axis_off()>"
      ]
     },
     "execution_count": 5,
     "metadata": {},
     "output_type": "execute_result"
    }
   ],
   "source": [
    "set_axis_off"
   ]
  },
  {
   "cell_type": "code",
   "execution_count": 6,
   "id": "f9dc14f8",
   "metadata": {},
   "outputs": [],
   "source": [
    "# bounding box of Northern California coastline\n",
    "bbox = (36.5, -123.5, 38.5, -121.5)  # (south, west, north, east)"
   ]
  },
  {
   "cell_type": "code",
   "execution_count": 7,
   "id": "a57da466",
   "metadata": {},
   "outputs": [],
   "source": [
    "# create a geodataframe of 300 random points\n",
    "np.random.seed(0)\n",
    "n = 300\n",
    "df = pd.DataFrame(\n",
    "    {\n",
    "        \"geometry\": gpd.points_from_xy(\n",
    "            np.random.uniform(-123.5, -121.5, n),\n",
    "            np.random.uniform(36.5, 38.5, n),\n",
    "        ),\n",
    "    }\n",
    ")"
   ]
  },
  {
   "cell_type": "code",
   "execution_count": 8,
   "id": "5ff20571",
   "metadata": {},
   "outputs": [],
   "source": [
    "gdf = gpd.GeoDataFrame(df, crs=\"EPSG:4326\")"
   ]
  },
  {
   "cell_type": "code",
   "execution_count": 9,
   "id": "eeeeb0f8",
   "metadata": {},
   "outputs": [
    {
     "data": {
      "text/plain": [
       "<Axes: >"
      ]
     },
     "execution_count": 9,
     "metadata": {},
     "output_type": "execute_result"
    },
    {
     "data": {
      "image/png": "[encoded data removed]",
      "text/plain": [
       "<Figure size 640x480 with 1 Axes>"
      ]
     },
     "metadata": {},
     "output_type": "display_data"
    }
   ],
   "source": [
    "gdf.plot()"
   ]
  },
  {
   "cell_type": "markdown",
   "id": "5001e3f5",
   "metadata": {},
   "source": [
    "Up to this point, I wanted to get comfortable generating a set of random points within the bounding box of the area I am looking to map my network, that being the Northern California coast, specifically between the edge of West Marin County and the southern tip of Santa Cruz, prime fog catching regions. "
   ]
  },
  {
   "cell_type": "code",
   "execution_count": null,
   "id": "80e6aed7",
   "metadata": {},
   "outputs": [],
   "source": [
    "requests.get(\n",
    "    \"\"\n",
    ")"
   ]
  }
 ],
 "metadata": {
  "kernelspec": {
   "display_name": "cdpgis5",
   "language": "python",
   "name": "python3"
  },
  "language_info": {
   "codemirror_mode": {
    "name": "ipython",
    "version": 3
   },
   "file_extension": ".py",
   "mimetype": "text/x-python",
   "name": "python",
   "nbconvert_exporter": "python",
   "pygments_lexer": "ipython3",
   "version": "3.12.2"
  }
 },
 "nbformat": 4,
 "nbformat_minor": 5
}
