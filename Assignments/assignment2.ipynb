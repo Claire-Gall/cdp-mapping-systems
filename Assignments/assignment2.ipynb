{
 "cells": [
  {
   "cell_type": "code",
   "execution_count": null,
   "id": "9fe12d5b",
   "metadata": {},
   "outputs": [
    {
     "ename": "SyntaxError",
     "evalue": "invalid syntax (2255727297.py, line 3)",
     "output_type": "error",
     "traceback": [
      "  \u001b[36mCell\u001b[39m\u001b[36m \u001b[39m\u001b[32mIn[1]\u001b[39m\u001b[32m, line 3\u001b[39m\n\u001b[31m    \u001b[39m\u001b[31mCreate a dataset that expresses a narrative from part of your daily life, either now or in the past. This can be based on a mental map of your experience in New York / another city, based on geolocated map tracks (i.e. Google Maps history), or some other source. Based on the data type (point, line, polygon), consider how it would or could relate to other datasets that lend themselves to describing your mental image of the city- subway routes, the location of open space, your favorite coffee cart, etc. We will spend time in the next class relating these kinds of datasets together.\u001b[39m\n           ^\n\u001b[31mSyntaxError\u001b[39m\u001b[31m:\u001b[39m invalid syntax\n"
     ]
    }
   ],
   "source": [
    "# 02. Geoprocessing\n",
    "\n",
    "Create a dataset that expresses a narrative from part of your daily life, either now or in the past. This can be based on a mental map of your experience in New York / another city, based on geolocated map tracks (i.e. Google Maps history), or some other source. Based on the data type (point, line, polygon), consider how it would or could relate to other datasets that lend themselves to describing your mental image of the city- subway routes, the location of open space, your favorite coffee cart, etc. We will spend time in the next class relating these kinds of datasets together. \n",
    "- Use https://geojson.io/, https://play.placemark.io/, QGIS, or another software  to create your dataset\n",
    "- **You must submit a GeoJSON file of your dataset, along with a proposed related dataset, via Github, along with a proposed workflow for relating the two (expressed as a diagram)**. Upload the file in the `Assignments` folder along with a markdown document with a link to the other dataset and the proposed methodology. Ideally the related dataset will be something you have access to, but if not, describe how you would propose creating it. Come prepared to discuss, we will talk through a couple of examples next class.\n"
   ]
  }
 ],
 "metadata": {
  "kernelspec": {
   "display_name": "test",
   "language": "python",
   "name": "python3"
  },
  "language_info": {
   "codemirror_mode": {
    "name": "ipython",
    "version": 3
   },
   "file_extension": ".py",
   "mimetype": "text/x-python",
   "name": "python",
   "nbconvert_exporter": "python",
   "pygments_lexer": "ipython3",
   "version": "3.12.11"
  }
 },
 "nbformat": 4,
 "nbformat_minor": 5
}
