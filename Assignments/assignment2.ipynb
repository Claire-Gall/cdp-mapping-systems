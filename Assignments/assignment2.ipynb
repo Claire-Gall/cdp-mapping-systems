{
 "cells": [
  {
   "cell_type": "markdown",
   "id": "ea1f3095",
   "metadata": {},
   "source": [
    "External dataset source:\n",
    "https://www.sciencebase.gov/catalog/item/63badf22d34e92aad3cd279e\n",
    "\n",
    "After Hurricane Ida, dataset marks points around New York City that become inundated during heavy rainfaill, permanently submerged in water throughout a rainy period. This data maps water depth and the most significantly inundated areas which in relation to my proposed dataset, present the obstacles of puddles and poolings for residents to navigate as they maneuver around the city. "
   ]
  },
  {
   "cell_type": "code",
   "execution_count": 13,
   "id": "e3b02e9c",
   "metadata": {},
   "outputs": [],
   "source": [
    "import pandas as pd\n",
    "import geopandas as gpd"
   ]
  },
  {
   "cell_type": "code",
   "execution_count": 21,
   "id": "802feaf9",
   "metadata": {},
   "outputs": [],
   "source": [
    "pluto = gpd.read_file('MappingSystemsAssignment2-DataSet -PuddleMap.csv', )"
   ]
  },
  {
   "cell_type": "code",
   "execution_count": 24,
   "id": "2006ebc1",
   "metadata": {},
   "outputs": [
    {
     "ename": "ValueError",
     "evalue": "'-73.59188' is not a JSON compliant number",
     "output_type": "error",
     "traceback": [
      "\u001b[31m---------------------------------------------------------------------------\u001b[39m",
      "\u001b[31mValueError\u001b[39m                                Traceback (most recent call last)",
      "\u001b[36mCell\u001b[39m\u001b[36m \u001b[39m\u001b[32mIn[24]\u001b[39m\u001b[32m, line 10\u001b[39m\n\u001b[32m      8\u001b[39m features = []\n\u001b[32m      9\u001b[39m \u001b[38;5;28;01mfor\u001b[39;00m _, row \u001b[38;5;129;01min\u001b[39;00m df.iterrows():\n\u001b[32m---> \u001b[39m\u001b[32m10\u001b[39m     point = \u001b[43mgeojson\u001b[49m\u001b[43m.\u001b[49m\u001b[43mPoint\u001b[49m\u001b[43m(\u001b[49m\u001b[43m(\u001b[49m\u001b[43mrow\u001b[49m\u001b[43m[\u001b[49m\u001b[33;43m'\u001b[39;49m\u001b[33;43mLongitude\u001b[39;49m\u001b[33;43m'\u001b[39;49m\u001b[43m]\u001b[49m\u001b[43m,\u001b[49m\u001b[43m \u001b[49m\u001b[43mrow\u001b[49m\u001b[43m[\u001b[49m\u001b[33;43m'\u001b[39;49m\u001b[33;43mLatitude\u001b[39;49m\u001b[33;43m'\u001b[39;49m\u001b[43m]\u001b[49m\u001b[43m)\u001b[49m\u001b[43m)\u001b[49m\n\u001b[32m     11\u001b[39m     properties = row.drop([\u001b[33m'\u001b[39m\u001b[33mLongitude\u001b[39m\u001b[33m'\u001b[39m, \u001b[33m'\u001b[39m\u001b[33mLatitude\u001b[39m\u001b[33m'\u001b[39m]).to_dict()\n\u001b[32m     12\u001b[39m     feature = geojson.Feature(geometry=point, properties=properties)\n",
      "\u001b[36mFile \u001b[39m\u001b[32m/opt/miniconda3/envs/test/lib/python3.12/site-packages/geojson/geometry.py:29\u001b[39m, in \u001b[36mGeometry.__init__\u001b[39m\u001b[34m(self, coordinates, validate, precision, **extra)\u001b[39m\n\u001b[32m     27\u001b[39m \u001b[38;5;28;01mif\u001b[39;00m precision \u001b[38;5;129;01mis\u001b[39;00m \u001b[38;5;28;01mNone\u001b[39;00m:\n\u001b[32m     28\u001b[39m     precision = DEFAULT_PRECISION\n\u001b[32m---> \u001b[39m\u001b[32m29\u001b[39m \u001b[38;5;28mself\u001b[39m[\u001b[33m\"\u001b[39m\u001b[33mcoordinates\u001b[39m\u001b[33m\"\u001b[39m] = \u001b[38;5;28;43mself\u001b[39;49m\u001b[43m.\u001b[49m\u001b[43mclean_coordinates\u001b[49m\u001b[43m(\u001b[49m\n\u001b[32m     30\u001b[39m \u001b[43m    \u001b[49m\u001b[43mcoordinates\u001b[49m\u001b[43m \u001b[49m\u001b[38;5;129;43;01mor\u001b[39;49;00m\u001b[43m \u001b[49m\u001b[43m[\u001b[49m\u001b[43m]\u001b[49m\u001b[43m,\u001b[49m\u001b[43m \u001b[49m\u001b[43mprecision\u001b[49m\u001b[43m)\u001b[49m\n\u001b[32m     32\u001b[39m \u001b[38;5;28;01mif\u001b[39;00m validate:\n\u001b[32m     33\u001b[39m     errors = \u001b[38;5;28mself\u001b[39m.errors()\n",
      "\u001b[36mFile \u001b[39m\u001b[32m/opt/miniconda3/envs/test/lib/python3.12/site-packages/geojson/geometry.py:53\u001b[39m, in \u001b[36mGeometry.clean_coordinates\u001b[39m\u001b[34m(cls, coords, precision)\u001b[39m\n\u001b[32m     51\u001b[39m         new_coords.append(\u001b[38;5;28mround\u001b[39m(coord, precision))\n\u001b[32m     52\u001b[39m     \u001b[38;5;28;01melse\u001b[39;00m:\n\u001b[32m---> \u001b[39m\u001b[32m53\u001b[39m         \u001b[38;5;28;01mraise\u001b[39;00m \u001b[38;5;167;01mValueError\u001b[39;00m(\u001b[33mf\u001b[39m\u001b[33m\"\u001b[39m\u001b[38;5;132;01m{\u001b[39;00mcoord\u001b[38;5;132;01m!r}\u001b[39;00m\u001b[33m is not a JSON compliant number\u001b[39m\u001b[33m\"\u001b[39m)\n\u001b[32m     54\u001b[39m \u001b[38;5;28;01mreturn\u001b[39;00m new_coords\n",
      "\u001b[31mValueError\u001b[39m: '-73.59188' is not a JSON compliant number"
     ]
    }
   ],
   "source": [
    "import pandas as pd\n",
    "import geojson\n",
    "\n",
    "# Load the CSV file\n",
    "df = pd.read_csv('MappingSystemsAssignment2-DataSet -PuddleMap.csv')\n",
    "\n",
    "# Convert each row into a GeoJSON Point Feature\n",
    "features = []\n",
    "for _, row in df.iterrows():\n",
    "    point = geojson.Point((row['Longitude'], row['Latitude']))\n",
    "    properties = row.drop(['Longitude', 'Latitude']).to_dict()\n",
    "    feature = geojson.Feature(geometry=point, properties=properties)\n",
    "    features.append(feature)\n",
    "\n",
    "# Create a FeatureCollection\n",
    "feature_collection = geojson.FeatureCollection(features)\n",
    "\n",
    "# Write to a .geojson file\n",
    "with open('MappingSystemsAssignment2-DataSet -PuddleMap.geojson', 'w') as f:\n",
    "    geojson.dump(feature_collection, f)"
   ]
  }
 ],
 "metadata": {
  "kernelspec": {
   "display_name": "test",
   "language": "python",
   "name": "python3"
  },
  "language_info": {
   "codemirror_mode": {
    "name": "ipython",
    "version": 3
   },
   "file_extension": ".py",
   "mimetype": "text/x-python",
   "name": "python",
   "nbconvert_exporter": "python",
   "pygments_lexer": "ipython3",
   "version": "3.12.11"
  }
 },
 "nbformat": 4,
 "nbformat_minor": 5
}
