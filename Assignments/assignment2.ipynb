{
 "cells": [
  {
   "cell_type": "code",
   "execution_count": null,
   "id": "9fe12d5b",
   "metadata": {},
   "outputs": [],
   "source": [
    "# 02. Geoprocessing\n",
    "\n",
    "Create a dataset that expresses a narrative from part of your daily life, either now or in the past. This can be based on a mental map of your experience in New York / another city, based on geolocated map tracks (i.e. Google Maps history), or some other source. Based on the data type (point, line, polygon), consider how it would or could relate to other datasets that lend themselves to describing your mental image of the city- subway routes, the location of open space, your favorite coffee cart, etc. We will spend time in the next class relating these kinds of datasets together. \n",
    "- Use https://geojson.io/, https://play.placemark.io/, QGIS, or another software  to create your dataset\n",
    "- **You must submit a GeoJSON file of your dataset, along with a proposed related dataset, via Github, along with a proposed workflow for relating the two (expressed as a diagram)**. Upload the file in the `Assignments` folder along with a markdown document with a link to the other dataset and the proposed methodology. Ideally the related dataset will be something you have access to, but if not, describe how you would propose creating it. Come prepared to discuss, we will talk through a couple of examples next class.\n"
   ]
  },
  {
   "cell_type": "code",
   "execution_count": null,
   "id": "c2b30b13",
   "metadata": {},
   "outputs": [],
   "source": []
  },
  {
   "cell_type": "code",
   "execution_count": null,
   "id": "4edc136e",
   "metadata": {},
   "outputs": [],
   "source": []
  }
 ],
 "metadata": {
  "kernelspec": {
   "display_name": "test",
   "language": "python",
   "name": "python3"
  },
  "language_info": {
   "name": "python",
   "version": "3.12.11"
  }
 },
 "nbformat": 4,
 "nbformat_minor": 5
}
